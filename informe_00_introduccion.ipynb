{
 "cells": [
  {
   "metadata": {},
   "cell_type": "markdown",
   "source": [
    "\n",
    "\n",
    "<center>\n",
    "\n",
    "# Trabajo Final: Detección y Segmentación de TN en Imágenes de Ultrasonido\n",
    "\n",
    "## Procesamiento Avanzado de Imágenes en Biomedicina y Biología\n",
    "\n",
    "### Segundo Cuatrimestre 2024\n",
    "\n",
    "<table>\n",
    "      <tr>\n",
    "        <th>Alumnos</th>\n",
    "        <th>Legajos</th>\n",
    "      </tr>\n",
    "      <tr>\n",
    "        <td>\n",
    "          Bajlec, Ivo<br>\n",
    "          Grau, Gonzalo Andrés<br>\n",
    "          Neira, Lucas Matias\n",
    "        </td>\n",
    "        <td>\n",
    "          62175<br>\n",
    "          62259<br>\n",
    "          61750<br>\n",
    "        </td>\n",
    "      </tr>\n",
    "    </table>\n",
    "\n",
    "**Docente**: Roberto Sebastián Tomás\n",
    "\n",
    "**Fecha de entrega**: 09/12/2024\n",
    "\n",
    "</center>\n"
   ]
  },
  {
   "cell_type": "markdown",
   "metadata": {},
   "source": [
    "# Objetivo del trabajo\n",
    "El objetivo del presente trabajo es desarrollar algoritmos para identificar y segmentar la translucencia nucal a partir de imágenes de ultrasonido.\n",
    "Para ello, se aplicarán técnicas avanzadas de reducción de ruido y preprocesamiento, para luego entrenar redes neuronales convolucionales.\n",
    "Los resultados de este estudio podrían contribuir significativamente al campo de la obstetricia, al proporcionar una herramienta de asistencia a la toma de deciiones, obteniéndose así una estimación de la medida de la TN en forma independiente del operador."
   ]
  },
  {
   "cell_type": "markdown",
   "metadata": {},
   "source": [
    "# Introducción\n",
    "En 1985, se descubrió que existe una correlación entre el grosor del pliegue nucal en fetos del segundo trimestre y las aparación de alteraciones cromosómicas. Luego, se descubrió que este fenómeno también es identificable en el primer trimestre, y se introdujo el término “translucencia nucal” (TN) para describir la región sonoluscente en la parte posterior de la nuca fetal. Estudios realizados en gestantes de alto riesgo confirmaron esta relación. [4]\n",
    "\n",
    "Para cuantificar esta relación, se desarrolló un modelo matemático que combinaba el riesgo asociado a la TN con la edad materna y los marcadores bioquímicos: el método de cribado combinado. Siguiente el protocolo adecuado, descito por la Fetal Medicine Foundation [3], se toma la medición del máximo ancho de un área anecogénica en la parte dorsal del embrión, a partir de una imagen ampliada que incluya solamente la cabeza y el toráx en una visión sagital. Una de las principales fuentes de confusión a la hora de tomar estas medidas es identificar como área de la TN al espacio entre la membrana amniótica y la piel fetal, el cual tiene una mofología similar a la del área de interés. \n",
    "\n",
    "Un algoritmo especializado para la detección del área de la TN ayudaría al profesional médico a detectar adecuadamente la región de interés (ROI), mientras que una herramienta de segmentación permitiría cuantifica el ancho de la TN en forma objetiva e independiente del operador.\n",
    "En el siguiente trabajo, se desarrollarán herramientas basadas en redes neuronales convolucionales (CNN) para resolver ambos desafíos.\n",
    "Para la detección, se aplicará un reajuste de pesos sobre una arquitectura VGG16, entrenándola para obtener bounding boxes que encierren a la ROI mediante regresión.\n",
    "Luego, para la segmentación, se aplicará una segmentación mediante métodos clásicos a partir de las bounding boxes preexistentes en el dataset, para obtener así una máscara con el segmento de interés para cada imagen.\n",
    "Utilizando estas segmentaciones, se entrenará un modelo U-NET para obtener las máscaras deseadas. \n",
    "En todo momento, se hará uso de imágenes preprocesadas y rescaladas mediante reducción de ruido basado en análisis espectral y aumento sectorial del constraste. \n",
    "Finalmente, se evaluarán los resultados obtenidos mediante métricas de precisión.\n",
    "\n"
   ]
  },
  {
   "cell_type": "markdown",
   "metadata": {},
   "source": [
    "## Base de datos\n",
    "Para realizar nuestro trabajo, adquirimos las imágenes necesarias disponibles en [1]. \n",
    "Esta base de datos contiene 1528 imágenes de ultrasonido en vista sagital 2D, recolectadas del Shenzhen People's Hospital de 1519 gestantes.\n",
    "Ademas, se cuenta con una tabla que indica una serie de bounding boxes para distintas estructuras identificables en cada una de las imágenes (entre ellas, la propia TN).\n",
    "De las 1528, se tomaron solo aquellas identificadas como \"Standard\", y se filtraron los ejemplos en las que nos se contaba con una bounding box predefinida para la TN.\n",
    "De esta manera, trabajaremos con 1100 imágenes de scan fetal abdominal y visión sagital del feto, en conjunto con sus correspondientes bounding boxes."
   ]
  },
  {
   "cell_type": "markdown",
   "metadata": {},
   "source": [
    "# Materiales y métodos\n",
    "\n",
    "Para el desarrollo de este trabajo, se hará uso de los siguientes módulos de código abierto:\n",
    "- numpy\n",
    "- pandas\n",
    "- scipy\n",
    "- matplotlib\n",
    "- openCV\n",
    "- skimage\n",
    "- tensorflow\n",
    "- keras\n",
    "\n",
    "Además, se desarrolló un módulo propio de denoising de imágenes, disponible en el archivo `denoising4GP.py`. Utilizando estas herramientas, se aplicaron las siguientes técnicas:\n",
    "- Reescalado por interpolación\n",
    "- Estimación del ruido mediante el espectro de frecuencia bidimensional\n",
    "- Ecualización sectorizada del histograma mediante CLAHE\n",
    "- Filtrado convolucional mediante kernels lineales\n",
    "- Binarización por el método de Otsu\n",
    "- Identificación de estructuras mediante el método de etiquetada\n",
    "- Segmentación por region growing\n",
    "\n",
    "Para cado uno de los casos presentado a continuación, el preprocesamiento aplicado consiste de los siguientes pasos:\n",
    "1. Lectura de la imagen desde un archivo .png\n",
    "2. Lectura de la bounding box correspondiente para la imagen\n",
    "3. Reducción de ruido basada en el análisis espectral\n",
    "4. Aumento de contraste mediante CLAHE \n",
    "\n",
    "Debido a que el dataset original no contaba con máscaras de segmentación semántica para el área anecogénica de la translucencia nucal, las cuales son de vital importancia para entrenar una red neuronal en esta tarea, se tuvo que desarrollar un algoritmo para segmentar dicha superficie a partir de la ROI de la bounding box. El pipeline adoptado consiste en:\n",
    "1. Aplicar un filtro pasa altos para resaltar los bordes\n",
    "2. Binarizar la imagen filtrada por Otsu\n",
    "3. Etiquetar las áreas cerradas internas a la bounding box en la binarización\n",
    "4. Seleccionar la etiqueta correspondiente al área más grande\n",
    "5. Calcular el centroide de dicho segmento\n",
    "6. Partiendo del centroide, aplicar el método de region growing sobre la imagen originalEstado del arte \n",
    "\n",
    "Finalmente, se entrenaron dos modelos de redes neuronales: un modelo basado en fine-tuning de VGG16 cuya salida es una regresión de las bounding boxes, y otro modelo basado en la U-NET cuya salida es una segmentación del área de la TN.\n",
    "\n",
    "---"
   ]
  }
 ],
 "metadata": {
  "kernelspec": {
   "display_name": "Python 3",
   "language": "python",
   "name": "python3"
  },
  "language_info": {
   "codemirror_mode": {
    "name": "ipython",
    "version": 3
   },
   "file_extension": ".py",
   "mimetype": "text/x-python",
   "name": "python",
   "nbconvert_exporter": "python",
   "pygments_lexer": "ipython3",
   "version": "3.12.3"
  }
 },
 "nbformat": 4,
 "nbformat_minor": 2
}
