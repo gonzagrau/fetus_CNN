{
 "cells": [
  {
   "cell_type": "markdown",
   "id": "e4264f0f159ae86f",
   "metadata": {},
   "source": [
    "---\n",
    "\n",
    "# Conclusión\n",
    "A lo largo de este trabajo, se desarrollaron herramientas automatizadas para la detección y segmentación de la translucencia nucal en imágenes de scan fetal por ultrasonido abdominal. Para ello, se preprocesaron las imágenes con técnicas avanzadas, se entrenó una red en la tarea de generar bounding boxes para identificar la estructura, se diseñó un algoritmo para encontrar el área anecogénica a partir de dichas bounding boxes, y finalmente se utilizaron estas segmentaciones para entrenar un modelo U-NET para segmentación semántica. Los resultados para la detección de la estructura fueron satisfactorios en términos de precisión, y las segmentaciones obtenidas por la red resultaron ser de alta calidad, indicando una comprensión semántica del área de interés en las imágenes de validación. A futuro, sería interesante combinar estas segmentaciones con algún algoritmo de medición automática, para poder así asistir al personal médico en su toma de decisiones. De esta manera, se podría acelerar el proceso de detección de anomalías fetales."
   ]
  },
  {
   "cell_type": "markdown",
   "id": "210e6b601f136d30",
   "metadata": {},
   "source": [
    "# Referencias\n",
    "[1] C. Cui and F. Dong, “Dataset for Fetus Framework”, vol. 1, Sep. 2022, doi: 10.17632/n2rbrb9t4f.1.\n",
    "\n",
    "[2] Y.-H. Deng, Y.-Y. Wang, and P. Chen, “Estimating Fetal Nuchal Translucency Parameters from its Ultrasound Image,” in 2008 2nd International Conference on Bioinformatics and Biomedical Engineering, May 2008, pp. 2643–2646. doi: 10.1109/ICBBE.2008.994.\n",
    "\n",
    "[3] K. H. Nicolaides, G. Azar, D. Byrne, C. Mansur, and K. Marks, “Fetal nuchal translucency: ultrasound screening for chromosomal defects in first trimester of pregnancy,” BMJ (Clinical research ed.), vol. 304, no. 6831, pp. 867–869, Apr. 1992, doi: 10.1136/bmj.304.6831.867.\n",
    "\n",
    "[4] D. Ramos, J. C. Santiago, M. J. Castillo, and F. Montoya, “Translucencia nucal,” Clínica e Investigación en Ginecología y Obstetricia, vol. 32, no. 2, pp. 54–60, Mar. 2005, doi: 10.1016/S0210-573X(05)73477-8."
   ]
  }
 ],
 "metadata": {
  "kernelspec": {
   "display_name": "Python 3",
   "language": "python",
   "name": "python3"
  },
  "language_info": {
   "codemirror_mode": {
    "name": "ipython",
    "version": 2
   },
   "file_extension": ".py",
   "mimetype": "text/x-python",
   "name": "python",
   "nbconvert_exporter": "python",
   "pygments_lexer": "ipython2",
   "version": "2.7.6"
  }
 },
 "nbformat": 4,
 "nbformat_minor": 5
}
