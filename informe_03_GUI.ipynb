{
 "cells": [
  {
   "cell_type": "markdown",
   "metadata": {},
   "source": [
    "---\n",
    "\n",
    "# DESARROLLO DE UNA INTERFAZ GRÁFICA\n",
    "Para visualizar la performance del modelo en imágenes reales, se implementó una interfaz gráfica que permite seleccionar un archivo y visualizar preprocesamiento, identificación de estructuras, y segmentación de TN.\n",
    "\n",
    "![detection.png](images/detection.png)\n",
    "![segmentation.png](images/segmentation.png)"
   ]
  }
 ],
 "metadata": {
  "kernelspec": {
   "display_name": "turco",
   "language": "python",
   "name": "python3"
  },
  "language_info": {
   "name": "python",
   "version": "3.11.9"
  }
 },
 "nbformat": 4,
 "nbformat_minor": 2
}
